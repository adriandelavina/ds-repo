{
 "cells": [
  {
   "cell_type": "markdown",
   "id": "ee9be60a-8b67-4fbd-8603-9754b9342093",
   "metadata": {},
   "source": [
    "# Data Science Tools and Ecosystem"
   ]
  },
  {
   "cell_type": "markdown",
   "id": "2d8a8d67-9f5e-4217-be7f-17b69f39ae5b",
   "metadata": {},
   "source": [
    "In this notebook, Data Science Tools And Ecosystem are sumarized."
   ]
  },
  {
   "cell_type": "markdown",
   "id": "c393aa29-f129-41ba-8df8-18d87c952e50",
   "metadata": {},
   "source": [
    "__Objectives:__\n",
    "+ List popular languages for Data Science\n",
    "+ List commonly used libraries for Data Science\n",
    "+ List some open-source tools for Data Science\n",
    "+ Learn how to perform arithmetic expressions in Markdown"
   ]
  },
  {
   "cell_type": "markdown",
   "id": "c63388d4-7949-4e1b-92c2-62d894724d06",
   "metadata": {},
   "source": [
    "##### Some of the popular languages that Data Scientists use are:\n",
    "1. Python\n",
    "2. R\n",
    "3. Scala\n",
    "4. Java\n",
    "5. Julia"
   ]
  },
  {
   "cell_type": "markdown",
   "id": "9f98a670-2caf-422f-9fdd-ecd62635f74a",
   "metadata": {},
   "source": [
    "##### Some of the commonly used libraries used by Data Scientists include:\n",
    "1. NumPy\n",
    "2. Pandas\n",
    "3. ggplot2\n",
    "4. dplyr\n",
    "5. Keras\n",
    "6. TensorFlow"
   ]
  },
  {
   "cell_type": "markdown",
   "id": "a83a12b8-c03f-48be-b155-51ca95d8e835",
   "metadata": {},
   "source": [
    "|Data Science Tools|\n",
    "|------------------|\n",
    "|RStudio|\n",
    "|Pytorch|\n",
    "|Jupyter Notebooks|\n",
    "|Apache Spark|"
   ]
  },
  {
   "cell_type": "markdown",
   "id": "43642d50-ee57-482b-922a-98b053ac9f98",
   "metadata": {},
   "source": [
    "### Below are a few examples of evaluating arithmetic expressions in Python:"
   ]
  },
  {
   "cell_type": "code",
   "execution_count": 3,
   "id": "1531b416-7d0c-4cbe-9c9f-df839465ab70",
   "metadata": {
    "tags": []
   },
   "outputs": [
    {
     "data": {
      "text/plain": [
       "17"
      ]
     },
     "execution_count": 3,
     "metadata": {},
     "output_type": "execute_result"
    }
   ],
   "source": [
    "(3*4)+5"
   ]
  },
  {
   "cell_type": "code",
   "execution_count": 4,
   "id": "2269edaa-97d8-4a5b-b027-f4d20fe1176b",
   "metadata": {
    "tags": []
   },
   "outputs": [
    {
     "data": {
      "text/plain": [
       "3.3333333333333335"
      ]
     },
     "execution_count": 4,
     "metadata": {},
     "output_type": "execute_result"
    }
   ],
   "source": [
    "200/60"
   ]
  },
  {
   "cell_type": "markdown",
   "id": "6c07614f-48eb-46d4-aef0-7dcdfcd23618",
   "metadata": {},
   "source": [
    "## Author\n",
    "Adrian De La Vina"
   ]
  },
  {
   "cell_type": "code",
   "execution_count": null,
   "id": "59111063-c027-4536-bc8f-15f6f68d2ea8",
   "metadata": {},
   "outputs": [],
   "source": []
  }
 ],
 "metadata": {
  "kernelspec": {
   "display_name": "Python 3 (ipykernel)",
   "language": "python",
   "name": "python3"
  },
  "language_info": {
   "codemirror_mode": {
    "name": "ipython",
    "version": 3
   },
   "file_extension": ".py",
   "mimetype": "text/x-python",
   "name": "python",
   "nbconvert_exporter": "python",
   "pygments_lexer": "ipython3",
   "version": "3.11.5"
  }
 },
 "nbformat": 4,
 "nbformat_minor": 5
}
